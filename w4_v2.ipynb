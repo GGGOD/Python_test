{
 "cells": [
  {
   "cell_type": "markdown",
   "metadata": {},
   "source": [
    "## 語文版數學題 v2\n",
    "\n",
    "教育部成語典資料庫 excel\n",
    "http://dict.idioms.moe.edu.tw/cgi-bin/cydic/gsweb.cgi?ccd=C6Jdae&o=e0&sec=sec6&brwtyp=sco&field_1=sco1&field_1_value=XX&field_2=sco2&active=dicfulu&limitval=fltype%3D%22%E7%B7%A8%E8%BC%AF%E7%B8%BD%E8%B3%87%E6%96%99%E5%BA%AB%22&brwsimpfmt=84&dicfululv2=1&dicfululv3=2\n"
   ]
  },
  {
   "cell_type": "code",
   "execution_count": 16,
   "metadata": {
    "collapsed": true
   },
   "outputs": [],
   "source": [
    "import pandas as pd\n",
    "import re\n",
    "import difflib"
   ]
  },
  {
   "cell_type": "code",
   "execution_count": 17,
   "metadata": {
    "collapsed": true
   },
   "outputs": [],
   "source": [
    "dic = pd.read_excel('dic4.xlsx')   # 教育部成語典"
   ]
  },
  {
   "cell_type": "code",
   "execution_count": 18,
   "metadata": {
    "collapsed": true
   },
   "outputs": [],
   "source": [
    "data = pd.read_csv('4w_count.txt',header = None)  #題目"
   ]
  },
  {
   "cell_type": "code",
   "execution_count": 19,
   "metadata": {},
   "outputs": [
    {
     "data": {
      "text/html": [
       "<div>\n",
       "<style>\n",
       "    .dataframe thead tr:only-child th {\n",
       "        text-align: right;\n",
       "    }\n",
       "\n",
       "    .dataframe thead th {\n",
       "        text-align: left;\n",
       "    }\n",
       "\n",
       "    .dataframe tbody tr th {\n",
       "        vertical-align: top;\n",
       "    }\n",
       "</style>\n",
       "<table border=\"1\" class=\"dataframe\">\n",
       "  <thead>\n",
       "    <tr style=\"text-align: right;\">\n",
       "      <th></th>\n",
       "      <th>0</th>\n",
       "    </tr>\n",
       "  </thead>\n",
       "  <tbody>\n",
       "    <tr>\n",
       "      <th>0</th>\n",
       "      <td>語文版數學題！</td>\n",
       "    </tr>\n",
       "    <tr>\n",
       "      <th>1</th>\n",
       "      <td>加法運算：</td>\n",
       "    </tr>\n",
       "    <tr>\n",
       "      <th>2</th>\n",
       "      <td>(  )言為定+(  )鳴驚人=(  )全其美</td>\n",
       "    </tr>\n",
       "    <tr>\n",
       "      <th>3</th>\n",
       "      <td>(  )親不認+(  )觸即發=(  )竅生煙</td>\n",
       "    </tr>\n",
       "    <tr>\n",
       "      <th>4</th>\n",
       "      <td>(  )體投地+(  )手遮天=(  )神無主</td>\n",
       "    </tr>\n",
       "    <tr>\n",
       "      <th>5</th>\n",
       "      <td>(  )令五申+(  )平八穩=(  )步之才</td>\n",
       "    </tr>\n",
       "    <tr>\n",
       "      <th>6</th>\n",
       "      <td>(  )通八達+(  )望無際=(  )湖四海</td>\n",
       "    </tr>\n",
       "    <tr>\n",
       "      <th>7</th>\n",
       "      <td>(  )龍戲珠+(  )零八落=(  )霄雲外</td>\n",
       "    </tr>\n",
       "    <tr>\n",
       "      <th>8</th>\n",
       "      <td>(  )海為家+(  )親不認=(  )萬火急</td>\n",
       "    </tr>\n",
       "    <tr>\n",
       "      <th>9</th>\n",
       "      <td>(  )生有幸+(  )顏六色=(  )面玲瓏</td>\n",
       "    </tr>\n",
       "  </tbody>\n",
       "</table>\n",
       "</div>"
      ],
      "text/plain": [
       "                         0\n",
       "0                  語文版數學題！\n",
       "1                    加法運算：\n",
       "2  (  )言為定+(  )鳴驚人=(  )全其美\n",
       "3  (  )親不認+(  )觸即發=(  )竅生煙\n",
       "4  (  )體投地+(  )手遮天=(  )神無主\n",
       "5  (  )令五申+(  )平八穩=(  )步之才\n",
       "6  (  )通八達+(  )望無際=(  )湖四海\n",
       "7  (  )龍戲珠+(  )零八落=(  )霄雲外\n",
       "8  (  )海為家+(  )親不認=(  )萬火急\n",
       "9  (  )生有幸+(  )顏六色=(  )面玲瓏"
      ]
     },
     "execution_count": 19,
     "metadata": {},
     "output_type": "execute_result"
    }
   ],
   "source": [
    "data.head(10)"
   ]
  },
  {
   "cell_type": "code",
   "execution_count": 20,
   "metadata": {
    "collapsed": true
   },
   "outputs": [],
   "source": [
    "corpus = []\n",
    "for rec in dic.iterrows():\n",
    "    word = ''.join(rec[1][0])\n",
    "    corpus.append(word)"
   ]
  },
  {
   "cell_type": "code",
   "execution_count": 21,
   "metadata": {
    "collapsed": true
   },
   "outputs": [],
   "source": [
    "def getword(w1):\n",
    "    import difflib\n",
    "    w2 = ''.join(w1)\n",
    "    #print(w2)\n",
    "    an = sorted(corpus, key=lambda x: difflib.SequenceMatcher(None, x, w2).ratio(), reverse=True)\n",
    "    return an[0]"
   ]
  },
  {
   "cell_type": "code",
   "execution_count": 22,
   "metadata": {},
   "outputs": [
    {
     "name": "stdout",
     "output_type": "stream",
     "text": [
      "語文版數學題！\n",
      "加法運算：\n",
      "(  )言為定+(  )鳴驚人=(  )全其美\n",
      "['一言為定', '一鳴驚人', '兩全其美']\n",
      "(  )親不認+(  )觸即發=(  )竅生煙\n",
      "['六親不認', '一觸即發', '七竅生煙']\n",
      "(  )體投地+(  )手遮天=(  )神無主\n",
      "['五體投地', '一手遮天', '六神無主']\n",
      "(  )令五申+(  )平八穩=(  )步之才\n",
      "['三令五申', '四平八穩', '七步之才']\n",
      "(  )通八達+(  )望無際=(  )湖四海\n",
      "['四通八達', '一望無際', '五湖四海']\n",
      "(  )龍戲珠+(  )零八落=(  )霄雲外\n",
      "['魚龍混珠', '七零八落', '九霄雲外']\n",
      "(  )海為家+(  )親不認=(  )萬火急\n",
      "['四海為家', '六親不認', '十萬火急']\n",
      "(  )生有幸+(  )顏六色=(  )面玲瓏\n",
      "['三生有幸', '五顏六色', '八面玲瓏']\n",
      "(  )字千金+(  )令五申=(  )通八達\n",
      "['一字千金', '三令五申', '四通八達']\n",
      "(  )牛一毛+(  )目了然=(  )面埋伏\n",
      "['九牛一毛', '一目了然', '十面埋伏']\n",
      "減法運算：\n",
      "(  )彩繽紛-(  )呼百應=(  )海升平\n",
      "['五彩繽紛', '一呼百應', '四海升平']\n",
      "(  )全十美-(  )手八腳=(  )顧茅廬\n",
      "['十全十美', '七手八腳', '三顧茅廬']\n",
      "(  )光十色-(  )事無成=(  )面八方\n",
      "['五光十色', '一事無成', '四面八方']\n",
      "(  )嘴八舌-(  )親不認=(  )言為定\n",
      "['七嘴八舌', '六親不認', '一言為定']\n",
      "(  )死一生-(  )分五裂=(  )湖四海\n",
      "['九死一生', '四分五裂', '五湖四海']\n",
      "(  )室九空-(  )盤散沙=(  )牛一毛\n",
      "['十室九空', '一盤散沙', '九牛一毛']\n",
      "(  )神無主-(  )龍戲珠=(  )面受敵\n",
      "['六神無主', '魚龍混珠', '四面受敵']\n",
      "(  )體投地-(  )長兩短=(  )敗俱傷\n",
      "['五體投地', '三長兩短', '兩敗俱傷']\n",
      "(  )仙過海-(  )擲千金=(  )上八下\n",
      "['八仙過海', '一擲千金', '七上八下']\n",
      "(  )面威風-(  )光十色=(  )頭六臂\n",
      "['八面威風', '五光十色', '三頭六臂']\n",
      "(  )顏六色-(  )海為家=(  )絲不茍\n",
      "['五顏六色', '四海為家', '一絲不苟']\n",
      "乘法運算：\n",
      "(  )裏挑一×(  )川歸海=(  )籟俱寂\n",
      "['百裏挑一', '百川歸海', '萬籟俱寂']\n",
      "(  )馬平川×(  )發千鈞=(  )筆勾銷\n",
      "['一馬平川', '一發千鈞', '一筆勾銷']\n",
      "(  )全其美×(  )廂情願=(  )海一家\n",
      "['兩全其美', '一廂情願', '四海一家']\n",
      "(  )花齊放×(  )萬火急=(  )變萬化\n",
      "['百花齊放', '十萬火急', '千變萬化']\n",
      "(  )全十美×(  )指連心=(  )花盛開\n",
      "['十全十美', '十指連心', '春暖花開']\n",
      "(  )龍戲珠×(  )絲不茍=(  )面三刀\n",
      "['魚龍混珠', '一絲不苟', '兩面三刀']\n",
      "(  )心二意×(  )視同仁=(  )思而行\n",
      "['三心二意', '一視同仁', '三思而行']\n",
      "(  )言九鼎×(  )牛二虎=(  )霄雲外\n",
      "['一言九鼎', '九牛二虎', '九霄雲外']\n",
      "(  )顧茅廬×(  )望無際=(  )言兩語\n",
      "['三顧茅廬', '一望無際', '三言兩語']\n",
      "除法運算：\n",
      "(  )壽無疆÷(  )思不解=(  )折不撓\n",
      "['萬壽無疆', '百思不解', '百折不撓']\n",
      "(  )辛萬苦÷(  )步芳草=(  )年樹人\n",
      "['千辛萬苦', '十步芳草', '百年樹人']\n",
      "(  )霄雲外÷(  )頭六臂=(  )教九流\n",
      "['九霄雲外', '三頭六臂', '三教九流']\n",
      "(  )神無主÷(  )虎相鬥=(  )長兩短\n",
      "['六神無主', '兩虎相鬥', '三長兩短']\n",
      "(  )面楚歌÷(  )面三刀=(  )龍戲珠\n",
      "['四面楚歌', '兩面三刀', '魚龍混珠']\n",
      "(  )拿九穩÷(  )光十色=(  )袖清風\n",
      "['十拿九穩', '五光十色', '兩袖清風']\n",
      "(  )煉成鋼÷(  )全十美=(  )拿九穩\n",
      "['百煉成鋼', '十全十美', '十拿九穩']\n",
      "(  )氣呵成÷(  )毛不拔=(  )波三折\n",
      "['一氣呵成', '一毛不拔', '一波三折']\n",
      "(  )拜之交÷(  )鬢如霜=(  )海為家\n",
      "['八拜之交', '潘鬢成霜', '四海為家']\n",
      "混合運算：\n",
      "丟(  )落(  )+(  )步登天=(  )(  )成群\n",
      "['丟三落四', '一步登天', '三五成群']\n",
      "(  )從(  )德+(  )鼓作氣=(  )年(  )載\n",
      "['三從四德', '一鼓作氣', '一年半載']\n",
      "(  )體投地×(  )竅生煙=(  )令(  )申\n",
      "['五體投地', '七竅生煙', '三令五申']\n",
      "(  )石(  )鳥×退避(  )舍=(  )頭(  )臂\n",
      "['一石兩鳥', '退避三舍', '三頭六臂']\n",
      "(  )面(  )方÷獨(  )無(  )=(  )面楚歌\n",
      "['四面八方', '獨一無二', '四面楚歌']\n",
      "(  )折不撓-(  )牛(  )虎=(  )面玲瓏\n",
      "['百折不撓', '九牛二虎', '八面玲瓏']\n"
     ]
    }
   ],
   "source": [
    "data2 = []\n",
    "\n",
    "for d1 in range(len(data)):\n",
    "    print(data[0][d1])\n",
    "    q1 = d1\n",
    "    #print(q1)\n",
    "    d2 = re.split('\\+|\\-|\\=|×|÷',data[0][d1])\n",
    "    data2.append(d2)\n",
    "    data3 = []\n",
    "    for a1 in range(len(d2)):\n",
    "        a2 = getword(d2[a1])\n",
    "        data3.append(a2)\n",
    "    if len(d2) >= 3:\n",
    "        print(data3)"
   ]
  }
 ],
 "metadata": {
  "kernelspec": {
   "display_name": "Python 3",
   "language": "python",
   "name": "python3"
  },
  "language_info": {
   "codemirror_mode": {
    "name": "ipython",
    "version": 3
   },
   "file_extension": ".py",
   "mimetype": "text/x-python",
   "name": "python",
   "nbconvert_exporter": "python",
   "pygments_lexer": "ipython3",
   "version": "3.6.1"
  }
 },
 "nbformat": 4,
 "nbformat_minor": 2
}

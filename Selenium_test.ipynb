{
 "cells": [
  {
   "cell_type": "markdown",
   "metadata": {},
   "source": [
    "## Seleninum 測試\n",
    "\n",
    "https://chromedriver.storage.googleapis.com/index.html?path=2.33/\n"
   ]
  },
  {
   "cell_type": "code",
   "execution_count": 2,
   "metadata": {},
   "outputs": [
    {
     "name": "stdout",
     "output_type": "stream",
     "text": [
      "Requirement already satisfied: selenium in c:\\programdata\\anaconda3\\lib\\site-packages\n"
     ]
    }
   ],
   "source": [
    "! pip install selenium"
   ]
  },
  {
   "cell_type": "code",
   "execution_count": 26,
   "metadata": {
    "collapsed": true
   },
   "outputs": [],
   "source": [
    "def get_pass():\n",
    "    import sqlite3 as lite\n",
    "    import base64\n",
    "    import pandas as pd\n",
    "    #acct = 'A9088'\n",
    "    with lite.connect('ACCT.sqlite') as con:\n",
    "        df2 = pd.read_sql_query(\"select * from ACCOUNT where ACCT = 'A9088'\",con = con)\n",
    "        c = base64.b64decode(df2['PASS'][0]).decode()\n",
    "        return c"
   ]
  },
  {
   "cell_type": "code",
   "execution_count": 29,
   "metadata": {},
   "outputs": [],
   "source": [
    "#get_pass()"
   ]
  },
  {
   "cell_type": "code",
   "execution_count": 28,
   "metadata": {},
   "outputs": [
    {
     "name": "stdout",
     "output_type": "stream",
     "text": [
      "test pass: element found by link text\n"
     ]
    },
    {
     "data": {
      "text/plain": [
       "<bound method WebDriver.quit of <selenium.webdriver.chrome.webdriver.WebDriver (session=\"fce4ea271cf32cff193277d8db1584ec\")>>"
      ]
     },
     "execution_count": 28,
     "metadata": {},
     "output_type": "execute_result"
    }
   ],
   "source": [
    "from selenium import webdriver\n",
    "chrome_path = \"D:\\\\selenium_driver_chrome\\\\chromedriver.exe\"\n",
    "driver = webdriver.Chrome(chrome_path)\n",
    "driver.get('https://km.fubonlife.com.tw/my.policy')\n",
    "try:\n",
    "    driver.find_element_by_link_text('按一下這裡。').click()\n",
    "    print('test pass: element found by link text')\n",
    "except Exception as e:\n",
    "    print (\"Exception found\", format(e))\n",
    "#p = get_pass()    \n",
    "driver.find_element_by_css_selector('#input_1').send_keys('A9088')\n",
    "driver.find_element_by_css_selector('#input_2').send_keys(get_pass())  # 呼叫 get_pass get pass\n",
    "driver.find_element_by_css_selector('.credentials_input_submit').click()\n",
    "driver.quit\n"
   ]
  },
  {
   "cell_type": "code",
   "execution_count": null,
   "metadata": {
    "collapsed": true
   },
   "outputs": [],
   "source": []
  },
  {
   "cell_type": "code",
   "execution_count": null,
   "metadata": {
    "collapsed": true
   },
   "outputs": [],
   "source": []
  },
  {
   "cell_type": "code",
   "execution_count": null,
   "metadata": {
    "collapsed": true
   },
   "outputs": [],
   "source": []
  }
 ],
 "metadata": {
  "kernelspec": {
   "display_name": "Python 3",
   "language": "python",
   "name": "python3"
  },
  "language_info": {
   "codemirror_mode": {
    "name": "ipython",
    "version": 3
   },
   "file_extension": ".py",
   "mimetype": "text/x-python",
   "name": "python",
   "nbconvert_exporter": "python",
   "pygments_lexer": "ipython3",
   "version": "3.6.1"
  }
 },
 "nbformat": 4,
 "nbformat_minor": 2
}

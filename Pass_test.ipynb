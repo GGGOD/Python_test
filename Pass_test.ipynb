{
 "cells": [
  {
   "cell_type": "markdown",
   "metadata": {},
   "source": [
    "## Pass test"
   ]
  },
  {
   "cell_type": "code",
   "execution_count": 1,
   "metadata": {
    "collapsed": true
   },
   "outputs": [],
   "source": [
    "import struct,sys,os,binascii\n",
    "\"\"\"\n",
    "  RC4加密算法\n",
    "  16*16 S盒\n",
    "  加密单元:short\n",
    "\"\"\"\n",
    "def RC4(pkey,keylen,pin,dlen):\n",
    "  N=65536\n",
    "  S = list(range(N))\n",
    "  j = 0\n",
    "  for i in range(N):\n",
    "    j = (j + S[i] + pkey[i%keylen])%N\n",
    "    temp = S[i]\n",
    "    S[i] = S[j]\n",
    "    S[j] = temp\n",
    "  i = j = 0\n",
    "  pout= b''\n",
    "  for x in range(dlen):\n",
    "    i = i+1\n",
    "    j = (j + S[i])%N\n",
    "    temp = S[i]\n",
    "    S[i] = S[j]\n",
    "    S[j] = temp\n",
    "    pout += struct.pack('H',pin[x]^S[(S[i]+S[j])%N])\n",
    "  return(pout)"
   ]
  },
  {
   "cell_type": "code",
   "execution_count": 2,
   "metadata": {
    "collapsed": true
   },
   "outputs": [],
   "source": [
    "# bytes->short\n",
    "def Coding(data):\n",
    "  if(len(data)%2):\n",
    "    data+=b'\\0'\n",
    "  dlen = len(data)//2\n",
    "  return(struct.unpack(str(dlen)+'H',data))"
   ]
  },
  {
   "cell_type": "code",
   "execution_count": 3,
   "metadata": {
    "collapsed": true
   },
   "outputs": [],
   "source": [
    "# short->bytes\n",
    "def unCoding(data):\n",
    "  d=b''\n",
    "  for i in range(len(data)):\n",
    "    d += struct.pack('H',data[i])\n",
    "  return(d)"
   ]
  },
  {
   "cell_type": "code",
   "execution_count": 4,
   "metadata": {
    "collapsed": true
   },
   "outputs": [],
   "source": [
    "#產生32字元密碼\n",
    "def CreatKey(Keyt):\n",
    "  pl = len(Keyt)\n",
    "  Key=b''\n",
    "  r=0\n",
    "  for i in range(32):\n",
    "    k=(Keyt[r%pl]+i)%256\n",
    "    Key+= struct.pack('B',k)\n",
    "    r+=1\n",
    "  return Key"
   ]
  },
  {
   "cell_type": "code",
   "execution_count": 6,
   "metadata": {},
   "outputs": [],
   "source": [
    "#更新密碼\n",
    "def UpdataKey(Keyt):\n",
    "  Key = unCoding(Keyt)\n",
    "  #循環左移\n",
    "  Key = Key[1:] + struct.pack('B',Key[0])\n",
    "  tem=0\n",
    "  #求和\n",
    "  for i in range(len(Key)):\n",
    "    tem += Key[i];\n",
    "  Keyo=b''\n",
    "  #Xor\n",
    "  for i in range(len(Key)):\n",
    "    Keyo += struct.pack('B',(Key[i]^tem)%256)\n",
    "    tem += Keyo[i]>>3\n",
    "    tem = tem % 256\n",
    "  return(Coding(Keyo))\n"
   ]
  },
  {
   "cell_type": "code",
   "execution_count": 7,
   "metadata": {},
   "outputs": [
    {
     "name": "stdout",
     "output_type": "stream",
     "text": [
      "打開文件失败！\n",
      "aaa\n"
     ]
    },
    {
     "ename": "SystemExit",
     "evalue": "",
     "output_type": "error",
     "traceback": [
      "An exception has occurred, use %tb to see the full traceback.\n",
      "\u001b[1;31mSystemExit\u001b[0m\n"
     ]
    },
    {
     "name": "stderr",
     "output_type": "stream",
     "text": [
      "C:\\ProgramData\\Anaconda3\\lib\\site-packages\\IPython\\core\\interactiveshell.py:2889: UserWarning: To exit: use 'exit', 'quit', or Ctrl-D.\n",
      "  warn(\"To exit: use 'exit', 'quit', or Ctrl-D.\", stacklevel=1)\n"
     ]
    }
   ],
   "source": [
    "if __name__ == '__main__':\n",
    "  #獲得輸入文件\n",
    "  if len(sys.argv)==1:\n",
    "    filename = input('File name: ')\n",
    "  else:\n",
    "    filename = sys.argv[1]\n",
    "   \n",
    "  try:\n",
    "    fin = open(filename,'rb')\n",
    "  except:\n",
    "    print('打開文件失败！')\n",
    "    input()\n",
    "    sys.exit()\n",
    "  print(filename)\n",
    "  #打開輸出文件\n",
    "  if filename[-4:]=='.RC4':\n",
    "    eID = 1\n",
    "    key=input('輸入解密密碼: ').encode()\n",
    "    ofilename = filename[:-4]\n",
    "  else:\n",
    "    eID = 2\n",
    "    key=input('輸入加密密碼: ').encode()\n",
    "    ofilename = filename+'.RC4'\n",
    "  key = Coding(CreatKey(key))\n",
    "  key = UpdataKey(key)\n",
    " \n",
    "  #處理重名\n",
    "  while os.path.exists(ofilename):\n",
    "    ofilename = os.path.dirname(ofilename)+ '\\\\副本 '+ os.path.basename(ofilename)\n",
    "  fout = open(ofilename,'wb')\n",
    "  print(ofilename)\n",
    "  #解密\n",
    "  if eID==1:\n",
    "    #讀文件長度\n",
    "    filelen = struct.unpack('I',fin.read(4))[0]\n",
    "    print('FlieLen =',filelen,'\\n......')\n",
    "    while 1:\n",
    "      #讀區塊大小\n",
    "      ps= fin.read(2)\n",
    "      if not ps:\n",
    "        #文件结束\n",
    "        break\n",
    "      packsize = struct.unpack('H',ps)[0]\n",
    "      #讀数據\n",
    "      dd=fin.read(packsize)\n",
    "      #解密\n",
    "      dd=Coding(dd)\n",
    "      x = RC4(key,len(key),dd,len(dd))\n",
    "      key = UpdataKey(key)\n",
    "      #crc\n",
    "      crc = struct.unpack('I',fin.read(4))[0]\n",
    "      if binascii.crc32(x)!=crc:\n",
    "        print('CRC32校驗錯誤！',crc,binascii.crc32(x))\n",
    "        input()\n",
    "        sys.exit()\n",
    "      fout.write(x)\n",
    "    #裁剪末尾填充位\n",
    "    fout.truncate(filelen)\n",
    "  #加密\n",
    "  elif eID==2:\n",
    "    #獲得文件長度\n",
    "    fin.seek(0,2)\n",
    "    filelen = fin.tell()\n",
    "    print('FlieLen =',filelen,'\\n......')\n",
    "    fin.seek(0,0)\n",
    "    fout.write(struct.pack('I',filelen))\n",
    "    while 1:\n",
    "      #讀数據\n",
    "      dd=fin.read(65534)\n",
    "      if not dd:\n",
    "        #文件结束\n",
    "        break\n",
    "      #末尾填充\n",
    "      srl = len(dd)\n",
    "      if srl%2:\n",
    "        srl+=1;\n",
    "        dd+=b'\\0'\n",
    "      #crc\n",
    "      crc = struct.pack('I',binascii.crc32(dd))\n",
    "      #加密数據\n",
    "      dd=Coding(dd)\n",
    "      x = RC4(key,len(key),dd,len(dd))\n",
    "      key = UpdataKey(key)\n",
    "      #寫入文件\n",
    "      fout.write(struct.pack('H',srl))\n",
    "      fout.write(x)\n",
    "      fout.write(crc)\n",
    "  fin.close()\n",
    "  fout.close()\n",
    "  print('OK!')\n",
    "  input()"
   ]
  },
  {
   "cell_type": "code",
   "execution_count": 2,
   "metadata": {},
   "outputs": [],
   "source": [
    "a=1"
   ]
  },
  {
   "cell_type": "code",
   "execution_count": 3,
   "metadata": {},
   "outputs": [
    {
     "data": {
      "text/plain": [
       "1"
      ]
     },
     "execution_count": 3,
     "metadata": {},
     "output_type": "execute_result"
    }
   ],
   "source": [
    "a"
   ]
  },
  {
   "cell_type": "code",
   "execution_count": 4,
   "metadata": {
    "collapsed": true
   },
   "outputs": [],
   "source": [
    "import os"
   ]
  },
  {
   "cell_type": "code",
   "execution_count": 5,
   "metadata": {
    "collapsed": true
   },
   "outputs": [],
   "source": [
    "def encryption():\n",
    "    str_raw = input(\"請輸入明文：\")\n",
    "    k = int(input(\"請輸入位移值：\"))\n",
    "    str_change = str_raw.lower()\n",
    "    str_list = list(str_change)\n",
    "    str_list_encry = str_list\n",
    "    i = 0\n",
    "    while i < len(str_list):\n",
    "        if ord(str_list[i]) < 123-k:\n",
    "            str_list_encry[i] = chr(ord(str_list[i]) + k)\n",
    "        else:\n",
    "            str_list_encry[i] = chr(ord(str_list[i]) + k - 26)\n",
    "        i = i+1\n",
    "    print (\"加密結果為：\"+\"\".join(str_list_encry))"
   ]
  },
  {
   "cell_type": "code",
   "execution_count": null,
   "metadata": {},
   "outputs": [
    {
     "name": "stdout",
     "output_type": "stream",
     "text": [
      "1. 加密\n",
      "2. 解密\n",
      "請選擇：1\n",
      "請輸入明文：aaaa\n",
      "請輸入位移值：2\n",
      "加密結果為：cccc\n",
      "1. 加密\n",
      "2. 解密\n",
      "請選擇：1\n",
      "請輸入明文：!qaz2wsx\n",
      "請輸入位移值：2\n",
      "加密結果為：#scb4yuz\n",
      "1. 加密\n",
      "2. 解密\n",
      "請選擇：2\n",
      "請輸入密文：#scb4yuz\n",
      "請輸入位移值：2\n",
      "解密結果為：;qazLwsx\n",
      "1. 加密\n",
      "2. 解密\n",
      "請選擇：2\n",
      "請輸入密文：#scb4yuz\n",
      "請輸入位移值：-2\n",
      "解密結果為：?uedP{w|\n",
      "1. 加密\n",
      "2. 解密\n",
      "請選擇：1\n",
      "請輸入明文：abcde\n",
      "請輸入位移值：2\n",
      "加密結果為：cdefg\n",
      "1. 加密\n",
      "2. 解密\n",
      "請選擇：2\n",
      "請輸入密文：cdefg\n",
      "請輸入位移值：2\n",
      "解密結果為：abcde\n",
      "1. 加密\n",
      "2. 解密\n",
      "請選擇：1\n",
      "請輸入明文：12345\n",
      "請輸入位移值：2\n",
      "加密結果為：34567\n",
      "1. 加密\n",
      "2. 解密\n",
      "請選擇：2\n",
      "請輸入密文：34567\n",
      "請輸入位移值：2\n",
      "解密結果為：KLMNO\n",
      "1. 加密\n",
      "2. 解密\n"
     ]
    }
   ],
   "source": [
    "def decryption():\n",
    "    str_raw = input(\"請輸入密文：\")\n",
    "    k = int(input(\"請輸入位移值：\"))\n",
    "    str_change = str_raw.lower()\n",
    "    str_list = list(str_change)\n",
    "    str_list_decry = str_list\n",
    "    i = 0\n",
    "    while i < len(str_list):\n",
    "        if ord(str_list[i]) >= 97+k:\n",
    "            str_list_decry[i] = chr(ord(str_list[i]) - k)\n",
    "        else:\n",
    "            str_list_decry[i] = chr(ord(str_list[i]) + 26 - k)\n",
    "        i = i+1\n",
    "    print (\"解密結果為：\"+\"\".join(str_list_decry))\n",
    "while True:\n",
    "    print (u\"1. 加密\")\n",
    "    print (u\"2. 解密\")\n",
    "    choice = input(\"請選擇：\")\n",
    "    if choice == \"1\":\n",
    "        encryption()\n",
    "    elif choice == \"2\":\n",
    "        decryption()\n",
    "    else:\n",
    "        print (u\"您的輸入有誤！\")"
   ]
  },
  {
   "cell_type": "code",
   "execution_count": null,
   "metadata": {
    "collapsed": true
   },
   "outputs": [],
   "source": []
  }
 ],
 "metadata": {
  "kernelspec": {
   "display_name": "Python 3",
   "language": "python",
   "name": "python3"
  },
  "language_info": {
   "codemirror_mode": {
    "name": "ipython",
    "version": 3
   },
   "file_extension": ".py",
   "mimetype": "text/x-python",
   "name": "python",
   "nbconvert_exporter": "python",
   "pygments_lexer": "ipython3",
   "version": "3.6.1"
  }
 },
 "nbformat": 4,
 "nbformat_minor": 2
}

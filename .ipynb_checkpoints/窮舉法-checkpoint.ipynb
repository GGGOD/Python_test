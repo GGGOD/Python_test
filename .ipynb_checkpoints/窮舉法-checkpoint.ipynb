{
 "cells": [
  {
   "cell_type": "markdown",
   "metadata": {},
   "source": [
    "![](1511580460608.jpg)"
   ]
  },
  {
   "cell_type": "code",
   "execution_count": 26,
   "metadata": {},
   "outputs": [
    {
     "name": "stdout",
     "output_type": "stream",
     "text": [
      "牛頭人: 9 槌: 1 頭: 5\n",
      "答案:  14\n"
     ]
    }
   ],
   "source": [
    "for 牛頭人 in range(1,60):\n",
    "    for 槌 in range(1,60):\n",
    "        for 頭 in range(1,60):\n",
    "            if 牛頭人 * 3+ 槌 * 3 == 30 and 牛頭人 + 槌+頭*2 == 20 and 頭 + 槌*4 == 9:\n",
    "                print('牛頭人:' ,牛頭人,'槌:' , 槌, '頭:',頭)\n",
    "                print('答案: ' ,頭+槌*牛頭人)"
   ]
  },
  {
   "cell_type": "markdown",
   "metadata": {},
   "source": [
    "![](1511583517134.jpg)"
   ]
  },
  {
   "cell_type": "code",
   "execution_count": 28,
   "metadata": {},
   "outputs": [
    {
     "name": "stdout",
     "output_type": "stream",
     "text": [
      "鞋子: 10 童: 3 哨子: 2\n",
      "答案:  16\n"
     ]
    }
   ],
   "source": [
    "for 鞋子 in range(1,64):\n",
    "    for 童 in range(1,64):\n",
    "        for 哨子 in range(1,64):\n",
    "            if 鞋子 * 3 == 30 and 鞋子 + 童*2 + 哨子*2== 20 and 童 + 哨子*5 == 13:\n",
    "                print('鞋子:' ,鞋子,'童:' , 童, '哨子:',哨子)\n",
    "                print('答案: ' ,鞋子+童*哨子)"
   ]
  },
  {
   "cell_type": "markdown",
   "metadata": {
    "collapsed": true
   },
   "source": []
  },
  {
   "cell_type": "code",
   "execution_count": null,
   "metadata": {
    "collapsed": true
   },
   "outputs": [],
   "source": []
  }
 ],
 "metadata": {
  "kernelspec": {
   "display_name": "Python 3",
   "language": "python",
   "name": "python3"
  },
  "language_info": {
   "codemirror_mode": {
    "name": "ipython",
    "version": 3
   },
   "file_extension": ".py",
   "mimetype": "text/x-python",
   "name": "python",
   "nbconvert_exporter": "python",
   "pygments_lexer": "ipython3",
   "version": "3.6.1"
  }
 },
 "nbformat": 4,
 "nbformat_minor": 2
}

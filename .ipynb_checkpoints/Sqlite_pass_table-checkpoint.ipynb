{
 "cells": [
  {
   "cell_type": "code",
   "execution_count": null,
   "metadata": {
    "collapsed": true
   },
   "outputs": [],
   "source": [
    "import getpass\n",
    "import pandas as pd\n",
    "import sqlite3 as lite\n",
    "import base64\n",
    "\n",
    "acct_pass = []\n",
    "while True:\n",
    "    acct = input(\">>> Acct Input: \")\n",
    "    password1 = getpass.getpass(\">>> pass Input: \")\n",
    "    password2 = getpass.getpass(\">>> pass again Input: \")\n",
    "    if password1 == password2:\n",
    "        print('輸入完成!')\n",
    "        \n",
    "        password = base64.b64encode(password1.encode('utf-8'))  # base64 轉換\n",
    "        \n",
    "        acct_pass_dic = {'ACCT':acct,'PASS':password.decode()}\n",
    "        acct_pass.append(acct_pass_dic)\n",
    "        aa = pd.DataFrame(acct_pass)\n",
    "        \n",
    "        with lite.connect('ACCT.sqlite') as con:\n",
    "            sql = \"delete from ACCOUNT where ACCT = ?\"\n",
    "            con.execute(sql,(acct,))\n",
    "            con.commit()\n",
    "            aa.to_sql('ACCOUNT',con = con,if_exists = 'append')\n",
    "            con.commit()\n",
    "            #pd.read_sql_query('select * from ACCOUNT',con = con,if_exists = 'replace')\n",
    "            #con.close()\n",
    "        #print(acct_pass)\n",
    "        break;\n",
    "    else:\n",
    "        print('密碼輸入不一致!')\n",
    "        onemore = input('還要繼續嗎?(Y/N)')\n",
    "        if onemore != 'Y' and onemore != 'y':\n",
    "            print('Bye Bye!')\n",
    "            break;"
   ]
  },
  {
   "cell_type": "markdown",
   "metadata": {},
   "source": [
    "## 查詢 ACCT table "
   ]
  },
  {
   "cell_type": "code",
   "execution_count": 1,
   "metadata": {},
   "outputs": [
    {
     "name": "stdout",
     "output_type": "stream",
     "text": [
      "   index      ACCT      PASS\n",
      "0      0  ODS_LIFE  MVFBWg==\n",
      "1      0   DM_LIFE  WlhDVg==\n"
     ]
    }
   ],
   "source": [
    "import sqlite3 as lite\n",
    "import pandas as pd\n",
    "with lite.connect('ACCT.sqlite') as con:\n",
    "    df2 = pd.read_sql_query('select * from ACCOUNT',con = con)\n",
    "    print(df2)"
   ]
  },
  {
   "cell_type": "markdown",
   "metadata": {},
   "source": [
    "## 刪除所有資料"
   ]
  },
  {
   "cell_type": "code",
   "execution_count": null,
   "metadata": {
    "collapsed": true
   },
   "outputs": [],
   "source": [
    "with lite.connect('ACCT.sqlite') as con:\n",
    "    sql = \"DELETE FROM ACCOUNT ;\"\n",
    "    con.execute(sql)\n",
    "    con.commit()            "
   ]
  }
 ],
 "metadata": {
  "kernelspec": {
   "display_name": "Python 3",
   "language": "python",
   "name": "python3"
  },
  "language_info": {
   "codemirror_mode": {
    "name": "ipython",
    "version": 3
   },
   "file_extension": ".py",
   "mimetype": "text/x-python",
   "name": "python",
   "nbconvert_exporter": "python",
   "pygments_lexer": "ipython3",
   "version": "3.6.1"
  }
 },
 "nbformat": 4,
 "nbformat_minor": 2
}
